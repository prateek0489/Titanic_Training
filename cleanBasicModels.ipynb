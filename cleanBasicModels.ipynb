{
 "cells": [
  {
   "cell_type": "code",
   "execution_count": 1,
   "metadata": {},
   "outputs": [
    {
     "name": "stderr",
     "output_type": "stream",
     "text": [
      "C:\\ProgramData\\Anaconda3\\lib\\site-packages\\sklearn\\ensemble\\weight_boosting.py:29: DeprecationWarning: numpy.core.umath_tests is an internal NumPy module and should not be imported. It will be removed in a future NumPy release.\n",
      "  from numpy.core.umath_tests import inner1d\n"
     ]
    }
   ],
   "source": [
    "#Lets start with importing all the libraries that we used yesterday\n",
    "import pandas as pd\n",
    "import matplotlib.pyplot as plt\n",
    "import numpy as np\n",
    "%matplotlib inline\n",
    "\n",
    "from sklearn.tree import DecisionTreeClassifier\n",
    "from sklearn.model_selection import train_test_split\n",
    "from sklearn.metrics import accuracy_score,confusion_matrix\n",
    "from sklearn.ensemble import RandomForestClassifier\n",
    "import xgboost as xgb"
   ]
  },
  {
   "cell_type": "code",
   "execution_count": 4,
   "metadata": {},
   "outputs": [],
   "source": [
    "# Lets create a function that will perform all the basic pre-processing.\n",
    "def preprocessing(dataset):\n",
    "    dataset['Age']=dataset.Age.fillna(dataset.groupby(\"Sex\")[\"Age\"].transform(\"mean\"))\n",
    "    \n",
    "    bins = [0, 16, 24, 30, 40, 50, 100]\n",
    "    labels = [0,1,2,3,4,5]\n",
    "    dataset['Age_Binned'] = pd.cut(dataset['Age'], bins=bins, labels=labels)\n",
    "    dataset['Sex']=np.where(dataset.Sex=='male',1,0)\n",
    "    dataset['SibSp_Binned'] = np.where(dataset.SibSp > 2, 3,dataset.SibSp)\n",
    "    dataset['Parch_Binned'] = np.where(dataset.Parch > 2, 3,dataset.Parch)\n",
    "    \n",
    "    dataset=dataset[['Survived','Pclass','Sex','Fare','SibSp_Binned','Parch_Binned', 'Age_Binned']]\n",
    "    dataset = pd.get_dummies(dataset)\n",
    "    y = dataset.Survived\n",
    "    X = dataset.drop('Survived', axis=1)\n",
    "    train_X, val_X, train_y, val_y = train_test_split(X, y, random_state = 0)\n",
    "    return train_X, val_X, train_y, val_y"
   ]
  },
  {
   "cell_type": "code",
   "execution_count": 5,
   "metadata": {},
   "outputs": [],
   "source": [
    "# Lets read the data and process it\n",
    "training=pd.read_csv(\"Data/train.csv\")\n",
    "train_X, val_X, train_y, val_y=preprocessing(training)"
   ]
  },
  {
   "cell_type": "code",
   "execution_count": 7,
   "metadata": {},
   "outputs": [],
   "source": [
    "# Also lets create another function that provides us accuracy and AUC score for a given model\n",
    "def get_scores(model,val_X,val_y):\n",
    "    val_predictions=model.predict(val_X)\n",
    "    print(\"accuracy score is %.4g\" %accuracy_score(val_y,val_predictions))"
   ]
  },
  {
   "cell_type": "code",
   "execution_count": 8,
   "metadata": {},
   "outputs": [
    {
     "name": "stdout",
     "output_type": "stream",
     "text": [
      "accuracy score is 0.8027\n"
     ]
    }
   ],
   "source": [
    "Decision_Tree_model = DecisionTreeClassifier()\n",
    "Decision_Tree_model.fit(train_X, train_y)\n",
    "get_scores(Decision_Tree_model,val_X,val_y)"
   ]
  },
  {
   "cell_type": "code",
   "execution_count": 9,
   "metadata": {},
   "outputs": [
    {
     "name": "stdout",
     "output_type": "stream",
     "text": [
      "accuracy score is 0.7848\n"
     ]
    }
   ],
   "source": [
    "Random__Forest_model = RandomForestClassifier(n_estimators=100, \n",
    "                               bootstrap = True,\n",
    "                               max_features = 'sqrt')\n",
    "# Fit on training data\n",
    "Random__Forest_model.fit(train_X, train_y)\n",
    "get_scores(Random__Forest_model,val_X,val_y)"
   ]
  },
  {
   "cell_type": "code",
   "execution_count": 10,
   "metadata": {},
   "outputs": [
    {
     "name": "stdout",
     "output_type": "stream",
     "text": [
      "accuracy score is 0.8341\n"
     ]
    },
    {
     "name": "stderr",
     "output_type": "stream",
     "text": [
      "C:\\ProgramData\\Anaconda3\\lib\\site-packages\\sklearn\\preprocessing\\label.py:151: DeprecationWarning: The truth value of an empty array is ambiguous. Returning False, but in future this will result in an error. Use `array.size > 0` to check that an array is not empty.\n",
      "  if diff:\n"
     ]
    }
   ],
   "source": [
    "XGBoost_model=xgb.XGBClassifier(random_state=1,learning_rate=0.01)\n",
    "XGBoost_model.fit(train_X, train_y)\n",
    "get_scores(XGBoost_model,val_X,val_y)"
   ]
  }
 ],
 "metadata": {
  "kernelspec": {
   "display_name": "Python 3",
   "language": "python",
   "name": "python3"
  },
  "language_info": {
   "codemirror_mode": {
    "name": "ipython",
    "version": 3
   },
   "file_extension": ".py",
   "mimetype": "text/x-python",
   "name": "python",
   "nbconvert_exporter": "python",
   "pygments_lexer": "ipython3",
   "version": "3.7.0"
  }
 },
 "nbformat": 4,
 "nbformat_minor": 2
}
