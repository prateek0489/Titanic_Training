{
 "cells": [
  {
   "cell_type": "code",
   "execution_count": 1,
   "metadata": {},
   "outputs": [
    {
     "name": "stderr",
     "output_type": "stream",
     "text": [
      "C:\\ProgramData\\Anaconda3\\lib\\site-packages\\sklearn\\ensemble\\weight_boosting.py:29: DeprecationWarning: numpy.core.umath_tests is an internal NumPy module and should not be imported. It will be removed in a future NumPy release.\n",
      "  from numpy.core.umath_tests import inner1d\n"
     ]
    }
   ],
   "source": [
    "#Lets start with importing all the libraries that we used yesterday\n",
    "import pandas as pd\n",
    "import matplotlib.pyplot as plt\n",
    "import numpy as np\n",
    "%matplotlib inline\n",
    "\n",
    "from sklearn.tree import DecisionTreeClassifier\n",
    "from sklearn.model_selection import train_test_split\n",
    "from sklearn.metrics import accuracy_score,confusion_matrix\n",
    "from sklearn.ensemble import RandomForestClassifier\n",
    "import xgboost as xgb"
   ]
  },
  {
   "cell_type": "code",
   "execution_count": 2,
   "metadata": {},
   "outputs": [],
   "source": [
    "# Lets create a function that will perform all the basic pre-processing.\n",
    "def preprocessing(dataset,bins=False,simplifyCategories=False,removeOne=False):\n",
    "    dataset['Age']=dataset.Age.fillna(dataset.groupby(\"Sex\")[\"Age\"].transform(\"mean\"))\n",
    "    dataset['Sex']=np.where(dataset.Sex=='male',1,0)\n",
    "    features=['Pclass','Sex','Fare','SibSp','Parch', 'Age']\n",
    "    if bins==True:  \n",
    "        bins = [0, 16, 24, 30, 40, 50, 100]\n",
    "        labels = [\"0-16\",\"16-24\",\"24-30\",\"30-40\",\"40-50\",\"50+\"]\n",
    "        training['Age'] = pd.cut(training['Age'], bins=bins, labels=labels)\n",
    "        dataset['SibSp'] = np.where(dataset.SibSp > 2, 3,dataset.SibSp)\n",
    "        dataset['Parch'] = np.where(dataset.Parch > 2, 3,dataset.Parch)\n",
    "        features=['Pclass','Sex','Fare','SibSp','Parch', 'Age']\n",
    "    \n",
    "    if simplifyCategories==True:\n",
    "        #Subseting Cabin to get only the first letter of the Cabin as the type of the cabin\n",
    "        dataset['CabinType']=dataset.Cabin.str[:1]\n",
    "        features=['Pclass','Sex','Fare','SibSp','Parch', 'Age','Embarked','CabinType']\n",
    "        \n",
    "        \n",
    "    y = dataset.Survived\n",
    "    X = dataset[features]\n",
    "    X=pd.get_dummies(X)\n",
    "    if removeOne==True:\n",
    "        X=X.drop(['Embarked_S','Age_50+','CabinType_T'],axis=1)\n",
    "\n",
    "\n",
    "    train_X, val_X, train_y, val_y = train_test_split(X, y, random_state = 0)\n",
    "    return train_X, val_X, train_y, val_y"
   ]
  },
  {
   "cell_type": "code",
   "execution_count": 3,
   "metadata": {},
   "outputs": [],
   "source": [
    "# Also lets create another function that provides us accuracy score for a given model\n",
    "def get_scores(model,val_X,val_y):\n",
    "    val_predictions=model.predict(val_X)\n",
    "    return accuracy_score(val_y,val_predictions)"
   ]
  },
  {
   "cell_type": "code",
   "execution_count": 4,
   "metadata": {},
   "outputs": [],
   "source": [
    "Decision_Tree_model = DecisionTreeClassifier(random_state=1)\n",
    "Random__Forest_model = RandomForestClassifier(n_estimators=100, \n",
    "                               bootstrap = True,\n",
    "                               max_features = 'sqrt',\n",
    "                                random_state=1)\n",
    "XGBoost_model=xgb.XGBClassifier(random_state=1,learning_rate=0.01)\n",
    "Decision=[]\n",
    "Random=[]\n",
    "XG=[]\n"
   ]
  },
  {
   "cell_type": "code",
   "execution_count": 5,
   "metadata": {},
   "outputs": [
    {
     "name": "stderr",
     "output_type": "stream",
     "text": [
      "C:\\ProgramData\\Anaconda3\\lib\\site-packages\\sklearn\\preprocessing\\label.py:151: DeprecationWarning: The truth value of an empty array is ambiguous. Returning False, but in future this will result in an error. Use `array.size > 0` to check that an array is not empty.\n",
      "  if diff:\n"
     ]
    }
   ],
   "source": [
    "# Lets read the data and process it\n",
    "\n",
    "training=pd.read_csv(\"Data/train.csv\")\n",
    "train_X, val_X, train_y, val_y=preprocessing(training)\n",
    "Decision_Tree_model.fit(train_X, train_y)\n",
    "Decision.append(get_scores(Decision_Tree_model,val_X,val_y))\n",
    "\n",
    "Random__Forest_model.fit(train_X, train_y)\n",
    "Random.append(get_scores(Random__Forest_model,val_X,val_y))\n",
    "\n",
    "XGBoost_model.fit(train_X, train_y)\n",
    "XG.append(get_scores(XGBoost_model,val_X,val_y))\n"
   ]
  },
  {
   "cell_type": "code",
   "execution_count": 6,
   "metadata": {},
   "outputs": [
    {
     "name": "stderr",
     "output_type": "stream",
     "text": [
      "C:\\ProgramData\\Anaconda3\\lib\\site-packages\\sklearn\\preprocessing\\label.py:151: DeprecationWarning: The truth value of an empty array is ambiguous. Returning False, but in future this will result in an error. Use `array.size > 0` to check that an array is not empty.\n",
      "  if diff:\n"
     ]
    }
   ],
   "source": [
    "training=pd.read_csv(\"Data/train.csv\")\n",
    "train_X, val_X, train_y, val_y=preprocessing(training,bins=True,simplifyCategories=False)\n",
    "Decision_Tree_model.fit(train_X, train_y)\n",
    "Decision.append(get_scores(Decision_Tree_model,val_X,val_y))\n",
    "\n",
    "Random__Forest_model.fit(train_X, train_y)\n",
    "Random.append(get_scores(Random__Forest_model,val_X,val_y))\n",
    "\n",
    "XGBoost_model.fit(train_X, train_y)\n",
    "XG.append(get_scores(XGBoost_model,val_X,val_y))"
   ]
  },
  {
   "cell_type": "code",
   "execution_count": 7,
   "metadata": {},
   "outputs": [
    {
     "name": "stderr",
     "output_type": "stream",
     "text": [
      "C:\\ProgramData\\Anaconda3\\lib\\site-packages\\sklearn\\preprocessing\\label.py:151: DeprecationWarning: The truth value of an empty array is ambiguous. Returning False, but in future this will result in an error. Use `array.size > 0` to check that an array is not empty.\n",
      "  if diff:\n"
     ]
    }
   ],
   "source": [
    "training=pd.read_csv(\"Data/train.csv\")\n",
    "train_X, val_X, train_y, val_y=preprocessing(training,bins=False,simplifyCategories=True)\n",
    "Decision_Tree_model.fit(train_X, train_y)\n",
    "Decision.append(get_scores(Decision_Tree_model,val_X,val_y))\n",
    "\n",
    "Random__Forest_model.fit(train_X, train_y)\n",
    "Random.append(get_scores(Random__Forest_model,val_X,val_y))\n",
    "\n",
    "XGBoost_model.fit(train_X, train_y)\n",
    "XG.append(get_scores(XGBoost_model,val_X,val_y))"
   ]
  },
  {
   "cell_type": "code",
   "execution_count": 8,
   "metadata": {},
   "outputs": [
    {
     "name": "stderr",
     "output_type": "stream",
     "text": [
      "C:\\ProgramData\\Anaconda3\\lib\\site-packages\\sklearn\\preprocessing\\label.py:151: DeprecationWarning: The truth value of an empty array is ambiguous. Returning False, but in future this will result in an error. Use `array.size > 0` to check that an array is not empty.\n",
      "  if diff:\n"
     ]
    }
   ],
   "source": [
    "training=pd.read_csv(\"Data/train.csv\")\n",
    "train_X, val_X, train_y, val_y=preprocessing(training,bins=True,simplifyCategories=True)\n",
    "Decision_Tree_model.fit(train_X, train_y)\n",
    "Decision.append(get_scores(Decision_Tree_model,val_X,val_y))\n",
    "\n",
    "Random__Forest_model.fit(train_X, train_y)\n",
    "Random.append(get_scores(Random__Forest_model,val_X,val_y))\n",
    "\n",
    "XGBoost_model.fit(train_X, train_y)\n",
    "XG.append(get_scores(XGBoost_model,val_X,val_y))"
   ]
  },
  {
   "cell_type": "code",
   "execution_count": 9,
   "metadata": {},
   "outputs": [
    {
     "name": "stderr",
     "output_type": "stream",
     "text": [
      "C:\\ProgramData\\Anaconda3\\lib\\site-packages\\sklearn\\preprocessing\\label.py:151: DeprecationWarning: The truth value of an empty array is ambiguous. Returning False, but in future this will result in an error. Use `array.size > 0` to check that an array is not empty.\n",
      "  if diff:\n"
     ]
    }
   ],
   "source": [
    "training=pd.read_csv(\"Data/train.csv\")\n",
    "train_X, val_X, train_y, val_y=preprocessing(training,bins=True,simplifyCategories=True,removeOne=True)\n",
    "Decision_Tree_model.fit(train_X, train_y)\n",
    "Decision.append(get_scores(Decision_Tree_model,val_X,val_y))\n",
    "\n",
    "Random__Forest_model.fit(train_X, train_y)\n",
    "Random.append(get_scores(Random__Forest_model,val_X,val_y))\n",
    "\n",
    "XGBoost_model.fit(train_X, train_y)\n",
    "XG.append(get_scores(XGBoost_model,val_X,val_y))"
   ]
  },
  {
   "cell_type": "code",
   "execution_count": 13,
   "metadata": {},
   "outputs": [
    {
     "data": {
      "text/html": [
       "<div>\n",
       "<style scoped>\n",
       "    .dataframe tbody tr th:only-of-type {\n",
       "        vertical-align: middle;\n",
       "    }\n",
       "\n",
       "    .dataframe tbody tr th {\n",
       "        vertical-align: top;\n",
       "    }\n",
       "\n",
       "    .dataframe thead th {\n",
       "        text-align: right;\n",
       "    }\n",
       "</style>\n",
       "<table border=\"1\" class=\"dataframe\">\n",
       "  <thead>\n",
       "    <tr style=\"text-align: right;\">\n",
       "      <th></th>\n",
       "      <th>Decision Tree</th>\n",
       "      <th>Random_forest</th>\n",
       "      <th>XGB</th>\n",
       "    </tr>\n",
       "  </thead>\n",
       "  <tbody>\n",
       "    <tr>\n",
       "      <th>0</th>\n",
       "      <td>0.766816</td>\n",
       "      <td>0.838565</td>\n",
       "      <td>0.847534</td>\n",
       "    </tr>\n",
       "    <tr>\n",
       "      <th>1</th>\n",
       "      <td>0.802691</td>\n",
       "      <td>0.784753</td>\n",
       "      <td>0.834081</td>\n",
       "    </tr>\n",
       "    <tr>\n",
       "      <th>2</th>\n",
       "      <td>0.771300</td>\n",
       "      <td>0.829596</td>\n",
       "      <td>0.829596</td>\n",
       "    </tr>\n",
       "    <tr>\n",
       "      <th>3</th>\n",
       "      <td>0.780269</td>\n",
       "      <td>0.802691</td>\n",
       "      <td>0.834081</td>\n",
       "    </tr>\n",
       "    <tr>\n",
       "      <th>4</th>\n",
       "      <td>0.789238</td>\n",
       "      <td>0.807175</td>\n",
       "      <td>0.834081</td>\n",
       "    </tr>\n",
       "  </tbody>\n",
       "</table>\n",
       "</div>"
      ],
      "text/plain": [
       "   Decision Tree  Random_forest       XGB\n",
       "0       0.766816       0.838565  0.847534\n",
       "1       0.802691       0.784753  0.834081\n",
       "2       0.771300       0.829596  0.829596\n",
       "3       0.780269       0.802691  0.834081\n",
       "4       0.789238       0.807175  0.834081"
      ]
     },
     "execution_count": 13,
     "metadata": {},
     "output_type": "execute_result"
    }
   ],
   "source": [
    "dict = {'Decision Tree': Decision, 'Random_forest': Random, 'XGB': XG}  \n",
    "df = pd.DataFrame(dict) \n"
   ]
  }
 ],
 "metadata": {
  "kernelspec": {
   "display_name": "Python 3",
   "language": "python",
   "name": "python3"
  },
  "language_info": {
   "codemirror_mode": {
    "name": "ipython",
    "version": 3
   },
   "file_extension": ".py",
   "mimetype": "text/x-python",
   "name": "python",
   "nbconvert_exporter": "python",
   "pygments_lexer": "ipython3",
   "version": "3.7.0"
  }
 },
 "nbformat": 4,
 "nbformat_minor": 2
}
